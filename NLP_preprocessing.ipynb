{
  "nbformat": 4,
  "nbformat_minor": 0,
  "metadata": {
    "colab": {
      "name": "NLP-preprocessing.ipynb",
      "provenance": [],
      "collapsed_sections": []
    },
    "kernelspec": {
      "name": "python3",
      "display_name": "Python 3"
    },
    "language_info": {
      "name": "python"
    }
  },
  "cells": [
    {
      "cell_type": "markdown",
      "metadata": {
        "id": "0krsHE_o8C_1"
      },
      "source": [
        "# NLP\n",
        "-- Problem Statement:"
      ]
    },
    {
      "cell_type": "markdown",
      "metadata": {
        "id": "V8g-AdH881Kt"
      },
      "source": [
        "## 1. Importing Liberiaries"
      ]
    },
    {
      "cell_type": "code",
      "metadata": {
        "colab": {
          "base_uri": "https://localhost:8080/"
        },
        "id": "JiagqRu_6alv",
        "outputId": "bd29eac1-22fb-4acd-b84f-6d224483f407"
      },
      "source": [
        "import pandas as pd\n",
        "import numpy as py\n",
        "import matplotlib.pyplot as plt\n",
        "import re # to remove unwanted characters like : . / , \" \" ! ? and so on.\n",
        "import nltk # have all words i need , engilish only\n",
        "### Remove all unnessary Words\n",
        "nltk.download('stopwords')\n",
        "from nltk.corpus import stopwords\n",
        "from nltk.stem.porter import PorterStemmer  # to get words demming جذور الكلمات\n",
        "from sklearn.feature_extraction.text import CountVectorizer  # Making Tokenizer\n",
        "from sklearn.ensemble import RandomForestClassifier #for random forest Classification\n",
        "from sklearn.metrics import confusion_matrix"
      ],
      "execution_count": null,
      "outputs": [
        {
          "output_type": "stream",
          "text": [
            "[nltk_data] Downloading package stopwords to /root/nltk_data...\n",
            "[nltk_data]   Package stopwords is already up-to-date!\n"
          ],
          "name": "stdout"
        }
      ]
    },
    {
      "cell_type": "markdown",
      "metadata": {
        "id": "KUw92mu7846F"
      },
      "source": [
        "## 2. Open Data-Set"
      ]
    },
    {
      "cell_type": "code",
      "metadata": {
        "colab": {
          "base_uri": "https://localhost:8080/"
        },
        "id": "0bQFSv1J7_Di",
        "outputId": "d2199e09-f8be-41ec-b5d4-b3174bf3c827"
      },
      "source": [
        "from google.colab import drive\n",
        "drive.mount('/content/drive')"
      ],
      "execution_count": null,
      "outputs": [
        {
          "output_type": "stream",
          "text": [
            "Mounted at /content/drive\n"
          ],
          "name": "stdout"
        }
      ]
    },
    {
      "cell_type": "code",
      "metadata": {
        "id": "WpThyuxJ9HiZ"
      },
      "source": [
        "df=pd.read_csv('/content/drive/MyDrive/Machine-Learning-NanoDegree/Section 33 - Natural Language Processing/Python/Restaurant_Reviews.tsv',delimiter='\\t',quoting=3)"
      ],
      "execution_count": null,
      "outputs": []
    },
    {
      "cell_type": "code",
      "metadata": {
        "colab": {
          "base_uri": "https://localhost:8080/",
          "height": 204
        },
        "id": "fpAW8Q4g94sy",
        "outputId": "9b94a46e-e7df-4b56-d117-c8f27ae98b95"
      },
      "source": [
        "df.head()"
      ],
      "execution_count": null,
      "outputs": [
        {
          "output_type": "execute_result",
          "data": {
            "text/html": [
              "<div>\n",
              "<style scoped>\n",
              "    .dataframe tbody tr th:only-of-type {\n",
              "        vertical-align: middle;\n",
              "    }\n",
              "\n",
              "    .dataframe tbody tr th {\n",
              "        vertical-align: top;\n",
              "    }\n",
              "\n",
              "    .dataframe thead th {\n",
              "        text-align: right;\n",
              "    }\n",
              "</style>\n",
              "<table border=\"1\" class=\"dataframe\">\n",
              "  <thead>\n",
              "    <tr style=\"text-align: right;\">\n",
              "      <th></th>\n",
              "      <th>Review</th>\n",
              "      <th>Liked</th>\n",
              "    </tr>\n",
              "  </thead>\n",
              "  <tbody>\n",
              "    <tr>\n",
              "      <th>0</th>\n",
              "      <td>Wow... Loved this place.</td>\n",
              "      <td>1</td>\n",
              "    </tr>\n",
              "    <tr>\n",
              "      <th>1</th>\n",
              "      <td>Crust is not good.</td>\n",
              "      <td>0</td>\n",
              "    </tr>\n",
              "    <tr>\n",
              "      <th>2</th>\n",
              "      <td>Not tasty and the texture was just nasty.</td>\n",
              "      <td>0</td>\n",
              "    </tr>\n",
              "    <tr>\n",
              "      <th>3</th>\n",
              "      <td>Stopped by during the late May bank holiday of...</td>\n",
              "      <td>1</td>\n",
              "    </tr>\n",
              "    <tr>\n",
              "      <th>4</th>\n",
              "      <td>The selection on the menu was great and so wer...</td>\n",
              "      <td>1</td>\n",
              "    </tr>\n",
              "  </tbody>\n",
              "</table>\n",
              "</div>"
            ],
            "text/plain": [
              "                                              Review  Liked\n",
              "0                           Wow... Loved this place.      1\n",
              "1                                 Crust is not good.      0\n",
              "2          Not tasty and the texture was just nasty.      0\n",
              "3  Stopped by during the late May bank holiday of...      1\n",
              "4  The selection on the menu was great and so wer...      1"
            ]
          },
          "metadata": {},
          "execution_count": 4
        }
      ]
    },
    {
      "cell_type": "markdown",
      "metadata": {
        "id": "95ogNqJq-Keg"
      },
      "source": [
        "## 3. Cleaning The Data \n",
        "#### This is a training for the first row cell"
      ]
    },
    {
      "cell_type": "code",
      "metadata": {
        "id": "spNeIxSF96Vi"
      },
      "source": [
        "### Removing UnWanted Characters!\n",
        "review=re.sub('[^a-zA-Z]',' ',df['Review'][0])\n",
        "\n",
        "### Get Ride of Capital Letters\n",
        "review = review.lower()\n",
        "\n",
        "### Put every row as vector\n",
        "review = review.split()\n",
        "\n",
        "### remove Stop worlds like this,that...\n",
        "review =[word for word in review if not word in set(stopwords.words('english'))]\n",
        "\n",
        "### Getting demming of words\n",
        "ps = PorterStemmer()\n",
        "review =[ps.stem(word) for word in review ]\n",
        "\n",
        "### Get my data string baack\n",
        "review =' '.join(review)"
      ],
      "execution_count": null,
      "outputs": []
    },
    {
      "cell_type": "code",
      "metadata": {
        "colab": {
          "base_uri": "https://localhost:8080/",
          "height": 35
        },
        "id": "jHIAiRrqBW9M",
        "outputId": "fd10f938-26da-4fa2-d26f-aa17840bce41"
      },
      "source": [
        "review"
      ],
      "execution_count": null,
      "outputs": [
        {
          "output_type": "execute_result",
          "data": {
            "application/vnd.google.colaboratory.intrinsic+json": {
              "type": "string"
            },
            "text/plain": [
              "'wow love place'"
            ]
          },
          "metadata": {},
          "execution_count": 32
        }
      ]
    },
    {
      "cell_type": "markdown",
      "metadata": {
        "id": "YpWqvO_uG4e6"
      },
      "source": [
        "## 4.Cleaning The Entire Data-Set"
      ]
    },
    {
      "cell_type": "code",
      "metadata": {
        "id": "fHDqEYvEBe5i"
      },
      "source": [
        "corpus=[] #empty list to hold the output of the Cleaning \n",
        "for i in range(0,1000):\n",
        "  ### Removing UnWanted Characters!\n",
        "  review=re.sub('[^a-zA-Z]',' ',df['Review'][i])\n",
        "\n",
        "  ### Get Ride of Capital Letters\n",
        "  review = review.lower()\n",
        "\n",
        "  ### Put every row as vector\n",
        "  review = review.split()\n",
        "\n",
        "  ### remove Stop worlds like this,that...\n",
        "  review =[word for word in review if not word in set(stopwords.words('english'))]\n",
        "\n",
        "  ### Getting demming of words\n",
        "  ps = PorterStemmer()\n",
        "  review =[ps.stem(word) for word in review ]\n",
        "\n",
        "  ### Get my data string baack\n",
        "  review =' '.join(review)\n",
        "\n",
        "  ### Here after each loop the review(i) will be automatically saved in corpus\n",
        "  corpus.append(review)\n"
      ],
      "execution_count": null,
      "outputs": []
    },
    {
      "cell_type": "markdown",
      "metadata": {
        "id": "lDn69FxtIb07"
      },
      "source": [
        "### 5.Bag of Words Model\n",
        "Tokanization\n",
        "\n"
      ]
    },
    {
      "cell_type": "code",
      "metadata": {
        "id": "6gHshmN1IfEi"
      },
      "source": [
        "cv = CountVectorizer(max_features = 1500) # max-feature takes the most common values as i five it \n",
        "X = cv.fit_transform(corpus).toarray()\n"
      ],
      "execution_count": null,
      "outputs": []
    },
    {
      "cell_type": "markdown",
      "metadata": {
        "id": "QCmfnJpFQaD6"
      },
      "source": [
        "## From Here the Ordinary Machine Learing Sequence...!"
      ]
    },
    {
      "cell_type": "markdown",
      "metadata": {
        "id": "kCddgQTNPksy"
      },
      "source": [
        "# 6. Creating my Independant Variable"
      ]
    },
    {
      "cell_type": "code",
      "metadata": {
        "id": "x5b3gFmdPBXw"
      },
      "source": [
        "y=df.iloc[:,1].values"
      ],
      "execution_count": null,
      "outputs": []
    },
    {
      "cell_type": "markdown",
      "metadata": {
        "id": "Ha6RsMVjQoKv"
      },
      "source": [
        "## 7. Splitting the dataset into the Training set and Test set"
      ]
    },
    {
      "cell_type": "code",
      "metadata": {
        "id": "NUN5Xq6xPwj1"
      },
      "source": [
        "from sklearn.model_selection import train_test_split\n",
        "X_train, X_test, y_train, y_test = train_test_split(X, y, test_size = 0.20, random_state = 0)"
      ],
      "execution_count": null,
      "outputs": []
    },
    {
      "cell_type": "markdown",
      "metadata": {
        "id": "YtctlR8kSFmX"
      },
      "source": [
        "## 8. Classification\n",
        "Classification tree or Random forest\n",
        "I chosed Random forest"
      ]
    },
    {
      "cell_type": "code",
      "metadata": {
        "colab": {
          "base_uri": "https://localhost:8080/"
        },
        "id": "2S0DiWpYRXHB",
        "outputId": "f19d90c8-1107-4bfb-b458-caba7b45666c"
      },
      "source": [
        "classifier = RandomForestClassifier(n_estimators= 10, random_state=0,criterion='entropy')\n",
        "classifier.fit(X_train,y_train)"
      ],
      "execution_count": null,
      "outputs": [
        {
          "output_type": "execute_result",
          "data": {
            "text/plain": [
              "RandomForestClassifier(bootstrap=True, ccp_alpha=0.0, class_weight=None,\n",
              "                       criterion='entropy', max_depth=None, max_features='auto',\n",
              "                       max_leaf_nodes=None, max_samples=None,\n",
              "                       min_impurity_decrease=0.0, min_impurity_split=None,\n",
              "                       min_samples_leaf=1, min_samples_split=2,\n",
              "                       min_weight_fraction_leaf=0.0, n_estimators=10,\n",
              "                       n_jobs=None, oob_score=False, random_state=0, verbose=0,\n",
              "                       warm_start=False)"
            ]
          },
          "metadata": {},
          "execution_count": 54
        }
      ]
    },
    {
      "cell_type": "code",
      "metadata": {
        "id": "pvzVGqA3S8gu"
      },
      "source": [
        "# Making Prediction Using OUR Model\n",
        "y_predict=classifier.predict(X_test)"
      ],
      "execution_count": null,
      "outputs": []
    },
    {
      "cell_type": "markdown",
      "metadata": {
        "id": "gLU_WaTATjkE"
      },
      "source": [
        "## 9. Confusion Matrix"
      ]
    },
    {
      "cell_type": "code",
      "metadata": {
        "colab": {
          "base_uri": "https://localhost:8080/"
        },
        "id": "bb9Mrd-wTSzD",
        "outputId": "bb566439-7f3a-4f3a-a15f-5c5c5466208d"
      },
      "source": [
        "cm = confusion_matrix(y_test, y_predict)\n",
        "print(cm)"
      ],
      "execution_count": null,
      "outputs": [
        {
          "output_type": "stream",
          "text": [
            "[[87 10]\n",
            " [46 57]]\n"
          ],
          "name": "stdout"
        }
      ]
    }
  ]
}